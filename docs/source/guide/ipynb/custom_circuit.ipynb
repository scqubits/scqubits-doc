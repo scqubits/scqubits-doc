{
 "cells": [
  {
   "cell_type": "markdown",
   "id": "a1533a21-0277-472a-af2e-b40a2e9e0c39",
   "metadata": {
    "pycharm": {
     "name": "#%% md\n"
    }
   },
   "source": [
    "# Custom Circuits\n",
    "The `Circuit` class provides functionality for the symbolic and numerical analysis of custom circuits.\n",
    "\n",
    "For a custom circuit, the code **identifies the periodic and extended degrees of freedom, and eliminates the free and frozen modes**. With this, the **symbolic expression of the Hamiltonian** is generated in terms of an appropriate choice of variables.\n",
    "\n",
    "The `Circuit` class also performs the **numerical diagonalization of the circuit Hamiltonian. Hierarchical diagonalization can be enabled for better runtime/memory perfomance.**"
   ]
  },
  {
   "cell_type": "markdown",
   "id": "470b2969",
   "metadata": {
    "pycharm": {
     "name": "#%% md\n"
    }
   },
   "source": [
    "## Defining a custom circuit\n",
    "The `Circuit` class supports all superconducting circuits consisting of **capacitances**, **inductances**, and **Josephson junctions**."
   ]
  },
  {
   "cell_type": "markdown",
   "id": "4b930329",
   "metadata": {
    "pycharm": {
     "name": "#%% md\n"
    }
   },
   "source": [
    "<div class=\"alert alert-info\">\n",
    "    \n",
    "Custom circuit definition\n",
    "    \n",
    "A custom circuit is specified in graph format: it is composed of nodes and branches. To get started, label all circuit nodes with integer numbers n=1,2,3,... Every branch connecting two nodes corresponds to a circuit element.\n",
    "    \n",
    "For each branch:\n",
    "   \n",
    "- specify branch type: `JJ`, `L`, `C` for Josephson junction, inductance, and capacitance\n",
    "- give the labels of the two nodes connected by the branch\n",
    "- provide circuit-element parameters (EJ and ECJ, EL, and EC, respectively)\n",
    "</div>\n",
    "\n",
    "\n",
    "As a concrete and familiar example, consider the circuit of the zero-pi qubit (nodes already labeled):\n",
    "   \n",
    "![zeropi](./zeropi-circ.jpg)\n",
    "\n",
    "   \n",
    "The graph of any custom circuit is stored in simple YAML format using the syntax illustrated here:"
   ]
  },
  {
   "cell_type": "code",
   "execution_count": 1,
   "id": "480aba4d",
   "metadata": {
    "pycharm": {
     "name": "#%%\n"
    },
    "tags": []
   },
   "outputs": [],
   "source": [
    "zp_yaml = \"\"\"# zero-pi\n",
    "branches:\n",
    "- [\"JJ\", 1,2, EJ = 10, 20]\n",
    "- [\"JJ\", 3,4, EJ, 20]\n",
    "- [\"L\", 2,3, 0.008]\n",
    "- [\"L\", 4,1, 0.009]\n",
    "- [\"C\", 1,3, 0.02]\n",
    "- [\"C\", 2,4, 0.02]\n",
    "\"\"\""
   ]
  },
  {
   "cell_type": "markdown",
   "id": "744085e7-bb67-4670-b5e8-6505e6b5dcd3",
   "metadata": {
    "pycharm": {
     "name": "#%% md\n"
    }
   },
   "source": [
    "Alternatively, circuit specifications can be stored and loaded as `yaml` files, following the same syntax. The graph serves as input to create an instance of the `Circuit` class. \n",
    "\n",
    "\n",
    "### More on syntax for entering custom circuits\n",
    "\n",
    "The example above illustrates most of the syntax rules to be followed. Each branch is represented by \n",
    "\n",
    "```\"<branch-type>\", <node_1>, <node_2>, <param-1> [, <param-2>]```\n",
    "\n",
    "**Branch types and parameters:**\n",
    "\n",
    "- `C`:  branch parameter is the charging energy $E_C = \\frac{e^2}{2C}$\n",
    "- `L`:  branch parameter is the inductive energy $E_L = \\frac{\\Phi_0^2}{(2\\pi)^2 L}$\n",
    "- `JJ`: branch parameters are the Josephson energy $E_J$ and junction charging energy $E_{CJ}$\n",
    "\n",
    "*Example:* `\"C\", 1, 3, 0.02` is a capacitance connecting nodes 1 and node 3, with charging energy 0.02 GHz.\n",
    "\n",
    "**Symbolic vs. numerical branch parameters:**\n",
    "\n",
    "- Branch parameters can be provided as float values, using the energy units set globally (default: GHz)\n",
    "- A symbol name can be specified along with a default value (e.g., `EJ = 10`). Note that the same symbol can be used to set any other branch parameters in the description. For instance, in the YAML description `zp_yaml` the parameter $EJ$ sets the junction energies for the junctions connecting nodes $(1, 2)$ and $(3, 4).$\n",
    "- Symbolic output will generally maintain symbolic parameter names. However, for charging energies of systems with more than four nodes, numerical values are the default, since capacitance-matrix inversion makes expressions lengthy.\n",
    "\n",
    "    \n",
    "**Ground node:**\n",
    "\n",
    "- The user can choose whether to include an explicit ground node. This ground node must then be labeled with `0`, and serves as a reference node whose flux is always $\\phi_0 = 0$."
   ]
  },
  {
   "cell_type": "markdown",
   "id": "03507a0d-627c-494e-940f-b0e7077aa01b",
   "metadata": {
    "pycharm": {
     "name": "#%% md\n"
    }
   },
   "source": [
    "## Creating a `Circuit` object\n",
    "Using the above string defining the zero-pi qubit, we can easily create a `Circuit` object:"
   ]
  },
  {
   "cell_type": "code",
   "execution_count": 18,
   "id": "e47f75b9",
   "metadata": {
    "pycharm": {
     "name": "#%%\n"
    },
    "tags": []
   },
   "outputs": [],
   "source": [
    "import scqubits as scq\n",
    "import numpy as np\n",
    "zero_pi = scq.Circuit.from_yaml(zp_yaml, from_file=False, ext_basis=\"harmonic\")"
   ]
  },
  {
   "cell_type": "markdown",
   "id": "af445950",
   "metadata": {
    "pycharm": {
     "name": "#%% md\n"
    }
   },
   "source": [
    "Here, `ext_basis` can be set to `\"discretized\"` or `\"harmonic\"`. This chooses the type of basis for the extended degrees of freedom. \"discretized\" employs \"spatial\" discretization; meanwhile, \"harmonic\" prompts a decomposition in a suitable harmonic-oscillator basis.\n",
    "\n",
    "\n",
    "The creation of a `Circuit` object automatically runs methods for circuit analysis, quantization, and construction of the circuit Hamiltonian matrix. For instance, we can directly access the **symbolic expression of the circuit Hamiltonian**:"
   ]
  },
  {
   "cell_type": "code",
   "execution_count": 19,
   "id": "a6cd2a58",
   "metadata": {
    "pycharm": {
     "name": "#%%\n"
    },
    "tags": []
   },
   "outputs": [
    {
     "data": {
      "image/png": "[encoded data removed]",
      "text/latex": [
       "$\\displaystyle \\left(40.0 Q_{3}^{2} + 0.01 Q_{2}^{2} + 0.04 n_{1}^{2} + 0.04 n_{g1}^{2} + 0.08 n_{1} n_{g1}\\right) - \\left(- 0.008 θ_{3}^{2} - 0.034 θ_{2}^{2} + EJ \\cos{\\left(θ_{1} - 1.0 θ_{3} \\right)} + EJ \\cos{\\left(θ_{1} + θ_{3} - 2π Φ_{1} \\right)} + 0.002 θ_{2} θ_{3}\\right)$"
      ],
      "text/plain": [
       "       2          2          2            2                          2        \n",
       "40.0⋅Q₃  + 0.01⋅Q₂  + 0.04⋅n₁  + 0.04⋅n_g1  + 0.08⋅n₁⋅n_g1 + 0.008⋅θ₃  + 0.034\n",
       "\n",
       "   2                                                          \n",
       "⋅θ₂  - EJ⋅cos(θ₁ - θ₃) - EJ⋅cos(θ₁ + θ₃ - 2π⋅Φ₁) - 0.002⋅θ₂⋅θ₃"
      ]
     },
     "execution_count": 19,
     "metadata": {},
     "output_type": "execute_result"
    }
   ],
   "source": [
    "zero_pi.sym_hamiltonian()"
   ]
  },
  {
   "cell_type": "markdown",
   "id": "df160b48",
   "metadata": {
    "pycharm": {
     "name": "#%% md\n"
    }
   },
   "source": [
    "All generalized coordinates are denoted by $\\theta_i$; the conjugate charges are given by $Q_i$ for extended degrees of freedom, and by $n_i$ for periodic degrees of freedom. Offset charges are denoted by $n_{gi}$ and external fluxes are denoted by $\\Phi_i$. A detailed description of external fluxes and offset charges is offered below in [External magnetic flux, offset charges](./custom_circuit.ipynb#External-magnetic-flux,-offset-charges).\n",
    "\n",
    ".. note:\n",
    "   The coordinates chosen here generally differ from the node variables. In their construction, periodic and extended \n",
    "   degrees of freedom are identified and separated. Furthermore, variable elimination is implemented for free and \n",
    "   frozen degrees of freedom (if applicable).\n",
    "   \n",
    "\n",
    "The **symbolic Lagrangian in terms of node variables** can be accessed via "
   ]
  },
  {
   "cell_type": "code",
   "execution_count": 20,
   "id": "149bf652",
   "metadata": {
    "pycharm": {
     "name": "#%%\n"
    },
    "tags": []
   },
   "outputs": [
    {
     "data": {
      "image/png": "[encoded data removed]",
      "text/latex": [
       "$\\displaystyle \\left(0.5 \\dot{φ_1} \\cdot \\left(6.256 \\dot{φ_1} - 6.25 \\dot{φ_3} - 0.006 \\dot{φ_2}\\right) + 0.5 \\dot{φ_2} \\left(6.256 \\dot{φ_2} - 6.25 \\dot{φ_4} - 0.006 \\dot{φ_1}\\right) + 0.5 \\dot{φ_3} \\left(6.256 \\dot{φ_3} - 6.25 \\dot{φ_1} - 0.006 \\dot{φ_4}\\right) + 0.5 \\dot{φ_4} \\left(6.256 \\dot{φ_4} - 6.25 \\dot{φ_2} - 0.006 \\dot{φ_3}\\right)\\right) + \\left(- 0.004 \\left(φ_{1} - φ_{4}\\right)^{2} - 0.004 \\left(φ_{3} - φ_{2}\\right)^{2} + EJ \\cos{\\left(φ_{1} - φ_{2} \\right)} + EJ \\cos{\\left(φ_{4} - φ_{3} + 2π Φ_{1} \\right)}\\right)$"
      ],
      "text/plain": [
       "                                                                              \n",
       "0.5⋅\\dot{φ_1}⋅(6.256⋅\\dot{φ_1} - 6.25⋅\\dot{φ_3} - 0.006⋅\\dot{φ_2}) + 0.5⋅\\dot{\n",
       "\n",
       "                                                                              \n",
       "φ_2}⋅(6.256⋅\\dot{φ_2} - 6.25⋅\\dot{φ_4} - 0.006⋅\\dot{φ_1}) + 0.5⋅\\dot{φ_3}⋅(6.2\n",
       "\n",
       "                                                                              \n",
       "56⋅\\dot{φ_3} - 6.25⋅\\dot{φ_1} - 0.006⋅\\dot{φ_4}) + 0.5⋅\\dot{φ_4}⋅(6.256⋅\\dot{φ\n",
       "\n",
       "                                                           2                  \n",
       "_4} - 6.25⋅\\dot{φ_2} - 0.006⋅\\dot{φ_3}) + - 0.004⋅(φ₁ - φ₄)  - 0.004⋅(φ₃ - φ₂)\n",
       "\n",
       "2                                            \n",
       "  + EJ⋅cos(φ₁ - φ₂) + EJ⋅cos(φ₄ - φ₃ + 2π⋅Φ₁)"
      ]
     },
     "execution_count": 20,
     "metadata": {},
     "output_type": "execute_result"
    }
   ],
   "source": [
    "zero_pi.sym_lagrangian(vars_type=\"node\")"
   ]
  },
  {
   "cell_type": "markdown",
   "id": "8b891662",
   "metadata": {
    "pycharm": {
     "name": "#%% md\n"
    }
   },
   "source": [
    "The equivalent expression of the **Lagrangian in terms of the transformed variables** used in `sym_hamiltonian` is:"
   ]
  },
  {
   "cell_type": "code",
   "execution_count": 21,
   "id": "b8bb2191",
   "metadata": {
    "pycharm": {
     "name": "#%%\n"
    },
    "tags": []
   },
   "outputs": [
    {
     "data": {
      "image/png": "[encoded data removed]",
      "text/latex": [
       "$\\displaystyle \\left(25.0 \\dot{θ_2}^{2} + 0.006 \\dot{θ_3}^{2} + 6.256 \\dot{θ_1}^{2}\\right) + \\left(- 0.008 θ_{3}^{2} - 0.034 θ_{2}^{2} + EJ \\cos{\\left(θ_{1} - 1.0 θ_{3} \\right)} + EJ \\cos{\\left(θ_{1} + θ_{3} - 2π Φ_{1} \\right)} + 0.002 θ_{2} θ_{3}\\right)$"
      ],
      "text/plain": [
       "              2                  2                  2             2           \n",
       "25.0⋅\\dot{θ_2}  + 0.006⋅\\dot{θ_3}  + 6.256⋅\\dot{θ_1}  + - 0.008⋅θ₃  - 0.034⋅θ₂\n",
       "\n",
       "2                                                          \n",
       "  + EJ⋅cos(θ₁ - θ₃) + EJ⋅cos(θ₁ + θ₃ - 2π⋅Φ₁) + 0.002⋅θ₂⋅θ₃"
      ]
     },
     "execution_count": 21,
     "metadata": {},
     "output_type": "execute_result"
    }
   ],
   "source": [
    "zero_pi.sym_lagrangian(vars_type=\"new\")"
   ]
  },
  {
   "cell_type": "markdown",
   "id": "d82001cc",
   "metadata": {
    "pycharm": {
     "name": "#%% md\n"
    }
   },
   "source": [
    "The classification of the different variables is recorded in `var_categories`:"
   ]
  },
  {
   "cell_type": "code",
   "execution_count": 22,
   "id": "eb2e0e25",
   "metadata": {
    "pycharm": {
     "name": "#%%\n"
    },
    "tags": []
   },
   "outputs": [
    {
     "data": {
      "text/plain": [
       "{'periodic': [1], 'extended': [2, 3], 'free': [], 'frozen': []}"
      ]
     },
     "execution_count": 22,
     "metadata": {},
     "output_type": "execute_result"
    }
   ],
   "source": [
    "zero_pi.var_categories"
   ]
  },
  {
   "cell_type": "markdown",
   "id": "a3d6f170",
   "metadata": {
    "pycharm": {
     "name": "#%% md\n"
    }
   },
   "source": [
    "The transformation matrix which maps the new variables ($\\theta_i$) to the node variables ($\\varphi_i$) can be inspected through `transformation_matrix`."
   ]
  },
  {
   "cell_type": "code",
   "execution_count": 23,
   "id": "8d0f5ff4",
   "metadata": {
    "pycharm": {
     "name": "#%%\n"
    },
    "tags": []
   },
   "outputs": [
    {
     "data": {
      "text/plain": [
       "array([[ 0., -1.,  1.,  1.],\n",
       "       [ 1., -1.,  0.,  1.],\n",
       "       [ 1.,  1.,  1.,  1.],\n",
       "       [ 0.,  1.,  0.,  1.]])"
      ]
     },
     "execution_count": 23,
     "metadata": {},
     "output_type": "execute_result"
    }
   ],
   "source": [
    "zero_pi.transformation_matrix"
   ]
  },
  {
   "cell_type": "markdown",
   "id": "764b6624",
   "metadata": {
    "pycharm": {
     "name": "#%% md\n"
    }
   },
   "source": [
    "Alternatively, these mappings can be represented as equations via"
   ]
  },
  {
   "cell_type": "code",
   "execution_count": 24,
   "id": "b6ca9ec8",
   "metadata": {
    "pycharm": {
     "name": "#%%\n"
    }
   },
   "outputs": [
    {
     "data": {
      "image/png": "[encoded data removed]",
      "text/latex": [
       "$\\displaystyle \\left[ φ_{1} = 1.0 θ_{3} + 1.0 θ_{4} - 1.0 θ_{2}, \\  φ_{2} = 1.0 θ_{1} + 1.0 θ_{4} - 1.0 θ_{2}, \\  φ_{3} = 1.0 θ_{1} + 1.0 θ_{2} + 1.0 θ_{3} + 1.0 θ_{4}, \\  φ_{4} = 1.0 θ_{2} + 1.0 θ_{4}\\right]$"
      ],
      "text/plain": [
       "[φ₁ = 1.0⋅θ₃ + 1.0⋅θ₄ - θ₂, φ₂ = 1.0⋅θ₁ + 1.0⋅θ₄ - θ₂, φ₃ = 1.0⋅θ₁ + 1.0⋅θ₂ + \n",
       "1.0⋅θ₃ + 1.0⋅θ₄, φ₄ = 1.0⋅θ₂ + 1.0⋅θ₄]"
      ]
     },
     "execution_count": 24,
     "metadata": {},
     "output_type": "execute_result"
    }
   ],
   "source": [
    "zero_pi.variable_transformation()"
   ]
  },
  {
   "cell_type": "markdown",
   "id": "272160d7",
   "metadata": {
    "pycharm": {
     "name": "#%% md\n"
    }
   },
   "source": [
    "Each variable index comes with a **cutoff for basis truncation**. A list of the attribute names for these cutoffs can be accessed using:"
   ]
  },
  {
   "cell_type": "code",
   "execution_count": 25,
   "id": "9386728a",
   "metadata": {
    "pycharm": {
     "name": "#%%\n"
    },
    "tags": []
   },
   "outputs": [
    {
     "data": {
      "text/plain": [
       "['cutoff_n_1', 'cutoff_ext_2', 'cutoff_ext_3']"
      ]
     },
     "execution_count": 25,
     "metadata": {},
     "output_type": "execute_result"
    }
   ],
   "source": [
    "zero_pi.cutoff_names"
   ]
  },
  {
   "cell_type": "markdown",
   "id": "1581f945",
   "metadata": {
    "pycharm": {
     "name": "#%% md\n"
    }
   },
   "source": [
    "We must next set these cutoffs to suitable values. The following attributes determine\n",
    "these properties:\n",
    "\n",
    "- `cutoff_n_i` - Uses all the charge eigenstates in the range `(-cutoff_n_i, cutoff_n_i)`\n",
    "- `cutoff_phi_i` - depends on the setting `ext_basis`. When `ext-basis` is set to\n",
    "    - `\"discretized\"`: sets the number of points chosen in the phi range in the\n",
    "      attribute `discretized_phi_range`.\n",
    "    - `\"extended\"`:  Sets the number of harmonic oscillator states used to describe the\n",
    "      extended variable"
   ]
  },
  {
   "cell_type": "code",
   "execution_count": 26,
   "id": "f82413f7",
   "metadata": {
    "pycharm": {
     "name": "#%%\n"
    },
    "tags": []
   },
   "outputs": [],
   "source": [
    "zero_pi.cutoff_n_1 = 5\n",
    "zero_pi.cutoff_ext_2 = 10\n",
    "zero_pi.cutoff_ext_3 = 10"
   ]
  },
  {
   "cell_type": "markdown",
   "id": "e58b1494",
   "metadata": {},
   "source": [
    "All the discretized phi ranges can be viewed using"
   ]
  },
  {
   "cell_type": "code",
   "execution_count": 27,
   "id": "55d2234f",
   "metadata": {},
   "outputs": [
    {
     "data": {
      "image/png": "[encoded data removed]",
      "text/latex": [
       "$\\displaystyle \\left\\{ 2 : \\left( -18.8495559215388, \\  18.8495559215388\\right), \\  3 : \\left( -18.8495559215388, \\  18.8495559215388\\right)\\right\\}$"
      ],
      "text/plain": [
       "{2: (-18.84955592153876, 18.84955592153876), 3: (-18.84955592153876, 18.849555\n",
       "92153876)}"
      ]
     },
     "execution_count": 27,
     "metadata": {},
     "output_type": "execute_result"
    }
   ],
   "source": [
    "zero_pi.discretized_phi_range"
   ]
  },
  {
   "cell_type": "markdown",
   "id": "0e1c7afb",
   "metadata": {
    "pycharm": {
     "name": "#%% md\n"
    }
   },
   "source": [
    "Now, we can call `eigenvals()` to obtain **low-lying eigenenergies of the circuit Hamiltonian**: "
   ]
  },
  {
   "cell_type": "code",
   "execution_count": 28,
   "id": "49122d7a",
   "metadata": {
    "pycharm": {
     "name": "#%%\n"
    },
    "tags": []
   },
   "outputs": [
    {
     "data": {
      "text/plain": [
       "array([-16.81942934, -16.78256481, -16.74570028, -16.70883575,\n",
       "       -16.67197123, -16.6351067 ])"
      ]
     },
     "execution_count": 28,
     "metadata": {},
     "output_type": "execute_result"
    }
   ],
   "source": [
    "zero_pi.eigenvals()"
   ]
  },
  {
   "cell_type": "markdown",
   "id": "363425c6",
   "metadata": {
    "pycharm": {
     "name": "#%% md\n"
    }
   },
   "source": [
    "Increasing the above cutoff values reveals that these eigenvalues have not converged yet. Increasing cutoff values increases the Hilbert space dimension and, thus, increases memory requirements and runtime. A strategy that can help mitigate this problem is the use of hierarchical diagonalization.\n",
    "\n",
    "## Hierarchical diagonalization\n",
    "\n",
    "For a large circuit with many degrees of freedoms, a possibly efficient way of obtaining low-lying eigenenergies and eigenstates is to partition the system into several subsystems, and to use the low-lying energy eigenstates of each subsystems as basis states to diagonalize the full system Hamiltonian. The schematic diagram below illustrates how hierarchical diagonalization is performed:\n",
    "\n",
    "![HD](./custom_circuit_HD.svg)\n",
    "\n",
    "For the example of the zero-pi qubit, the expression from `sym_hamiltonian` shows that $\\theta_2$ corresponds to the harmonic zeta mode of the zero-pi qubit. The remaining variables $\\theta_1$ and $\\theta_3$ form the primary qubit degrees of freedom and may be considered a \"separate\", weakly coupled subsystem. \n",
    "\n",
    "This idea of a **subsystem hierarchy is made explicit by grouping circuit variable indices in a nested list**:"
   ]
  },
  {
   "cell_type": "code",
   "execution_count": 29,
   "id": "c758ba14",
   "metadata": {
    "pycharm": {
     "name": "#%%\n"
    },
    "tags": []
   },
   "outputs": [],
   "source": [
    "system_hierarchy = [[1,3], [2]]"
   ]
  },
  {
   "cell_type": "markdown",
   "id": "5e218906",
   "metadata": {
    "pycharm": {
     "name": "#%% md\n"
    }
   },
   "source": [
    "This nested list groups variables $1$ and $3$ into one subsystem, and makes variable $2$ a separate subsystem. \n",
    "\n",
    "List nesting extends to multiple layers, so that more complex hierarchies can be captured.  \n",
    "For example, a zero-pi qubit coupled to an oscillator (variable $4$) could be associated with the hierarchy `[[[1,3], [2]], [4]]`.\n",
    "\n",
    "For convenience, a default list of truncated Hilbert space dimensions is generated by `truncation_template`:"
   ]
  },
  {
   "cell_type": "code",
   "execution_count": 30,
   "id": "4c304866",
   "metadata": {
    "pycharm": {
     "name": "#%%\n"
    },
    "tags": []
   },
   "outputs": [
    {
     "data": {
      "image/png": "[encoded data removed]",
      "text/latex": [
       "$\\displaystyle \\left[ 6, \\  6\\right]$"
      ],
      "text/plain": [
       "[6, 6]"
      ]
     },
     "execution_count": 30,
     "metadata": {},
     "output_type": "execute_result"
    }
   ],
   "source": [
    "scq.truncation_template(system_hierarchy)"
   ]
  },
  {
   "cell_type": "markdown",
   "id": "cae9048e",
   "metadata": {
    "pycharm": {
     "name": "#%% md\n"
    }
   },
   "source": [
    "This template obtained this way is meant to provide a list of the right shape. The entries specifying the truncation levels should, of course, be adjusted. \n",
    "\n",
    "**To enable hierarchical diagonalization, the system hierarchy and truncation scheme info are handed over to** `configure`:"
   ]
  },
  {
   "cell_type": "markdown",
   "id": "19f17eda",
   "metadata": {
    "pycharm": {
     "name": "#%% md\n"
    }
   },
   "source": [
    "Hamiltonian terms describing the coupling between two subsystems are displayed via"
   ]
  },
  {
   "cell_type": "code",
   "execution_count": 31,
   "id": "aa28782d",
   "metadata": {
    "pycharm": {
     "name": "#%%\n"
    },
    "tags": []
   },
   "outputs": [],
   "source": [
    "zero_pi.cutoff_n_1 = 15\n",
    "zero_pi.cutoff_ext_2 = 80\n",
    "zero_pi.cutoff_ext_3 = 100\n",
    "zero_pi.configure(system_hierarchy=system_hierarchy, subsystem_trunc_dims=[150, 80])"
   ]
  },
  {
   "cell_type": "markdown",
   "id": "254e04aa",
   "metadata": {
    "pycharm": {
     "name": "#%% md\n"
    }
   },
   "source": [
    "Once the hierarchy is set, subsystem Hamiltonians can be viewed via"
   ]
  },
  {
   "cell_type": "code",
   "execution_count": 32,
   "id": "5dec4742",
   "metadata": {
    "pycharm": {
     "name": "#%%\n"
    },
    "tags": []
   },
   "outputs": [
    {
     "data": {
      "image/png": "[encoded data removed]",
      "text/latex": [
       "$\\displaystyle \\left(40.0 Q_{3}^{2} + 0.04 n_{1}^{2} + 0.04 n_{g1}^{2} + 0.08 n_{1} n_{g1}\\right) - \\left(- 0.008 θ_{3}^{2} + EJ \\cos{\\left(θ_{1} - 1.0 θ_{3} \\right)} + EJ \\cos{\\left(θ_{1} + θ_{3} - 1.0 \\cdot 2π Φ_{1} \\right)}\\right)$"
      ],
      "text/plain": [
       "       2          2            2                          2                   \n",
       "40.0⋅Q₃  + 0.04⋅n₁  + 0.04⋅n_g1  + 0.08⋅n₁⋅n_g1 + 0.008⋅θ₃  - EJ⋅cos(θ₁ - θ₃) \n",
       "\n",
       "                         \n",
       "- EJ⋅cos(θ₁ + θ₃ - 2π⋅Φ₁)"
      ]
     },
     "execution_count": 32,
     "metadata": {},
     "output_type": "execute_result"
    }
   ],
   "source": [
    "zero_pi.sym_hamiltonian(subsystem_index=0)  # show Hamiltonian for subsystem 0"
   ]
  },
  {
   "cell_type": "code",
   "execution_count": 33,
   "id": "bca4e0fb",
   "metadata": {
    "pycharm": {
     "name": "#%%\n"
    },
    "tags": []
   },
   "outputs": [
    {
     "data": {
      "image/png": "[encoded data removed]",
      "text/latex": [
       "$\\displaystyle - 0.002 θ_{2} θ_{3}$"
      ],
      "text/plain": [
       "-0.002⋅θ₂⋅θ₃"
      ]
     },
     "execution_count": 33,
     "metadata": {},
     "output_type": "execute_result"
    }
   ],
   "source": [
    "zero_pi.sym_interaction((0,1))  # show coupling terms between subsystems 0 and 1"
   ]
  },
  {
   "cell_type": "markdown",
   "id": "8372344b",
   "metadata": {
    "pycharm": {
     "name": "#%% md\n"
    }
   },
   "source": [
    "(For the symmetric zero-pi qubit, the zeta mode and the primary qubit degrees of freedom decouple.)\n",
    "\n",
    "Each subsystem has access to circuit methods, like `eigenvals`. Here are the unconverged (!) eigenenergies for the zeta mode:"
   ]
  },
  {
   "cell_type": "code",
   "execution_count": 34,
   "id": "0c396cec",
   "metadata": {
    "pycharm": {
     "name": "#%%\n"
    },
    "tags": []
   },
   "outputs": [
    {
     "data": {
      "text/plain": [
       "array([0.01843909, 0.05531727, 0.09219544, 0.12907362, 0.1659518 ,\n",
       "       0.20282998])"
      ]
     },
     "execution_count": 34,
     "metadata": {},
     "output_type": "execute_result"
    }
   ],
   "source": [
    "zero_pi.subsystems[1].eigenvals()"
   ]
  },
  {
   "cell_type": "markdown",
   "id": "3671927a",
   "metadata": {
    "pycharm": {
     "name": "#%% md\n"
    }
   },
   "source": [
    "Hierarchical diagonalization allows us to increase variable-specific cutoffs without exploding the dimension of the joint Hilbert space."
   ]
  },
  {
   "cell_type": "code",
   "execution_count": 35,
   "id": "7542d15b",
   "metadata": {
    "pycharm": {
     "name": "#%%\n"
    },
    "tags": []
   },
   "outputs": [
    {
     "data": {
      "text/plain": [
       "array([0.01843909, 0.05531727, 0.09219544, 0.12907362, 0.1659518 ,\n",
       "       0.20282998])"
      ]
     },
     "execution_count": 35,
     "metadata": {},
     "output_type": "execute_result"
    }
   ],
   "source": [
    "zero_pi.subsystems[1].eigenvals()"
   ]
  },
  {
   "cell_type": "markdown",
   "id": "753a09fe",
   "metadata": {
    "pycharm": {
     "name": "#%% md\n"
    }
   },
   "source": [
    "## External magnetic flux, offset charges\n",
    "\n",
    "All external magnetic fluxes and offset charges are set to zero by default. They are modified by assigning the desired values to the attributes of the class instance.\n",
    "\n",
    "Each offset charge $n_{gi}$ is associated with a variable $\\theta_i$. Only periodic variables have offset charges relevant to the physics. For extended variables, offset charges (as long as time-independent) can always be eliminated from the Hamiltonian by suitable gauge transformations. A list of adjustable offset charge-parameters and their relation to the node offset charges $\\{q_{g\\mu}\\}$ is provided by:"
   ]
  },
  {
   "cell_type": "code",
   "execution_count": 36,
   "id": "71d352cb",
   "metadata": {
    "pycharm": {
     "name": "#%%\n"
    },
    "tags": []
   },
   "outputs": [
    {
     "data": {
      "image/png": "[encoded data removed]",
      "text/latex": [
       "$\\displaystyle \\left[ n_{g1} = 1.0 q_{g3} + 1.0 q_{g4} - 1.0 q_{g2}\\right]$"
      ],
      "text/plain": [
       "[n_g1 = 1.0⋅q_g3 + 1.0⋅q_g4 - q_g2]"
      ]
     },
     "execution_count": 36,
     "metadata": {},
     "output_type": "execute_result"
    }
   ],
   "source": [
    "zero_pi.offset_charge_transformation()"
   ]
  },
  {
   "cell_type": "markdown",
   "id": "d5be5495",
   "metadata": {
    "pycharm": {
     "name": "#%% md\n"
    }
   },
   "source": [
    "Each external flux $\\Phi_i$ is associated with a branch in a closed loop of circuit. All the external fluxes, along with their associated closure branches and loop (provided as a list of branches), can be accessed via:"
   ]
  },
  {
   "cell_type": "code",
   "execution_count": 37,
   "id": "c5660110",
   "metadata": {
    "pycharm": {
     "name": "#%%\n"
    },
    "tags": []
   },
   "outputs": [
    {
     "data": {
      "text/plain": [
       "{Φ1: (Branch(JJ, 3, 4),\n",
       "  [Branch(JJ, 1, 2), Branch(L, 2, 3), Branch(L, 4, 1), Branch(JJ, 3, 4)])}"
      ]
     },
     "execution_count": 37,
     "metadata": {},
     "output_type": "execute_result"
    }
   ],
   "source": [
    "zero_pi.sym_external_fluxes()"
   ]
  },
  {
   "cell_type": "markdown",
   "id": "795bc1c0",
   "metadata": {
    "pycharm": {
     "name": "#%% md\n"
    }
   },
   "source": [
    "External fluxes (in unit of $2\\pi$) and offset charges can be adjusted by simply:"
   ]
  },
  {
   "cell_type": "code",
   "execution_count": 38,
   "id": "30baa319",
   "metadata": {
    "pycharm": {
     "name": "#%%\n"
    },
    "tags": []
   },
   "outputs": [],
   "source": [
    "zero_pi.Φ1 = 0.0\n",
    "zero_pi.ng1 = 0.0"
   ]
  },
  {
   "cell_type": "markdown",
   "id": "9085099f",
   "metadata": {
    "pycharm": {
     "name": "#%% md\n"
    }
   },
   "source": [
    "## Visualization\n",
    "### Simple parameter sweeps\n",
    "Plotting the energy spectrum with varying one of the circuit parameters works just as for other qubit classes. For example:"
   ]
  },
  {
   "cell_type": "code",
   "execution_count": 39,
   "id": "8a6ecef5",
   "metadata": {
    "pycharm": {
     "name": "#%%\n"
    },
    "tags": []
   },
   "outputs": [
    {
     "data": {
      "application/vnd.jupyter.widget-view+json": {
       "model_id": "5a82307750cf4fe89cd5a5802c40e3d3",
       "version_major": 2,
       "version_minor": 0
      },
      "text/plain": [
       "Spectral data:   0%|          | 0/21 [00:00<?, ?it/s]"
      ]
     },
     "metadata": {},
     "output_type": "display_data"
    },
    {
     "data": {
      "text/plain": [
       "(<Figure size 432x288 with 1 Axes>,\n",
       " <AxesSubplot:xlabel='Φ1', ylabel='energy [GHz]'>)"
      ]
     },
     "execution_count": 39,
     "metadata": {},
     "output_type": "execute_result"
    },
    {
     "data": {
      "image/png": "[encoded data removed]",
      "text/plain": [
       "<Figure size 432x288 with 1 Axes>"
      ]
     },
     "metadata": {
      "needs_background": "light"
     },
     "output_type": "display_data"
    }
   ],
   "source": [
    "import numpy as np\n",
    "zero_pi.plot_evals_vs_paramvals(\"Φ1\", np.linspace(0,1,21))"
   ]
  },
  {
   "cell_type": "markdown",
   "id": "08276e68",
   "metadata": {
    "pycharm": {
     "name": "#%% md\n"
    }
   },
   "source": [
    "\n",
    "### Potential: symbolic expression and visualization\n",
    "The expression of the potential is obtained from `potential_symbolic`:"
   ]
  },
  {
   "cell_type": "code",
   "execution_count": 40,
   "id": "112b6a8e",
   "metadata": {
    "pycharm": {
     "name": "#%%\n"
    },
    "tags": []
   },
   "outputs": [
    {
     "data": {
      "image/png": "[encoded data removed]",
      "text/latex": [
       "$\\displaystyle 0.016 \\left(θ_{2} + 0.5 θ_{3}\\right)^{2} + 0.018 \\left(- θ_{2} + 0.5 θ_{3}\\right)^{2} - EJ \\cos{\\left(1.0 θ_{1} - 1.0 θ_{3} \\right)} - EJ \\cos{\\left(- Φ_{1} + 1.0 θ_{1} + 1.0 θ_{3} \\right)}$"
      ],
      "text/plain": [
       "                   2                       2                                  \n",
       "0.016⋅(θ₂ + 0.5⋅θ₃)  + 0.018⋅(-θ₂ + 0.5⋅θ₃)  - EJ⋅cos(1.0⋅θ₁ - θ₃) - EJ⋅cos(-Φ\n",
       "\n",
       "                    \n",
       "₁ + 1.0⋅θ₁ + 1.0⋅θ₃)"
      ]
     },
     "execution_count": 40,
     "metadata": {},
     "output_type": "execute_result"
    }
   ],
   "source": [
    "zero_pi.potential_symbolic"
   ]
  },
  {
   "cell_type": "markdown",
   "id": "f4691a4a",
   "metadata": {
    "pycharm": {
     "name": "#%% md\n"
    }
   },
   "source": [
    "The potential can be visualized using `plot_potential`.\n",
    "\n",
    "For the zero-pi example, there are three degrees of freedoms $(\\theta_1, \\theta_2, \\theta_3)$. We can either fix all but two, or all but one variable. This produces either a contour plot of the potential within the selected 2d region, "
   ]
  },
  {
   "cell_type": "code",
   "execution_count": 41,
   "id": "a1947717",
   "metadata": {
    "pycharm": {
     "name": "#%%\n"
    },
    "tags": []
   },
   "outputs": [
    {
     "data": {
      "text/plain": [
       "<matplotlib.contour.QuadContourSet at 0x7fa809958400>"
      ]
     },
     "execution_count": 41,
     "metadata": {},
     "output_type": "execute_result"
    },
    {
     "data": {
      "image/png": "[encoded data removed]",
      "text/plain": [
       "<Figure size 432x288 with 2 Axes>"
      ]
     },
     "metadata": {
      "needs_background": "light"
     },
     "output_type": "display_data"
    }
   ],
   "source": [
    "zero_pi.plot_potential(θ1=np.linspace(-np.pi, np.pi), \n",
    "                       θ3=np.linspace(-10*np.pi, 10*np.pi, 200), \n",
    "                       θ2 = 0.)"
   ]
  },
  {
   "cell_type": "markdown",
   "id": "d551610d",
   "metadata": {
    "pycharm": {
     "name": "#%% md\n"
    }
   },
   "source": [
    "or a line plot when only one variable is specified with a range:"
   ]
  },
  {
   "cell_type": "code",
   "execution_count": 42,
   "id": "ee11d03f",
   "metadata": {
    "pycharm": {
     "name": "#%%\n"
    }
   },
   "outputs": [
    {
     "data": {
      "text/plain": [
       "[<matplotlib.lines.Line2D at 0x7fa8097fc3a0>]"
      ]
     },
     "execution_count": 42,
     "metadata": {},
     "output_type": "execute_result"
    },
    {
     "data": {
      "image/png": "[encoded data removed]",
      "text/plain": [
       "<Figure size 432x288 with 1 Axes>"
      ]
     },
     "metadata": {
      "needs_background": "light"
     },
     "output_type": "display_data"
    }
   ],
   "source": [
    "zero_pi.plot_potential(θ1=np.linspace(-np.pi, np.pi), θ3=0, θ2 = 0)"
   ]
  },
  {
   "cell_type": "markdown",
   "id": "b7953ce2",
   "metadata": {
    "pycharm": {
     "name": "#%% md\n"
    }
   },
   "source": [
    "### Plotting the wavefunction\n",
    "Plots for the probability density of the wavefunction are obtained with `plot_wavefunction`. This method takes two arguments: `which` specifies the energy eigenstate for which the wavefunction is plotted, `var_indices` specifies the variable axis along which the wavefunction is plotted. The probability density is summed over the non-specified variable indices."
   ]
  },
  {
   "cell_type": "code",
   "execution_count": 43,
   "id": "fa2a1b77",
   "metadata": {},
   "outputs": [
    {
     "data": {
      "image/png": "[encoded data removed]",
      "text/latex": [
       "$\\displaystyle \\left(40.0 Q_{3}^{2} + 0.01 Q_{2}^{2} + 0.04 n_{1}^{2} + 0.04 n_{g1}^{2} + 0.08 n_{1} n_{g1}\\right) - \\left(- 0.008 θ_{3}^{2} - 0.034 θ_{2}^{2} + EJ \\cos{\\left(θ_{1} - 1.0 θ_{3} \\right)} + EJ \\cos{\\left(θ_{1} + θ_{3} - 2π Φ_{1} \\right)} + 0.002 θ_{2} θ_{3}\\right)$"
      ],
      "text/plain": [
       "       2          2          2            2                          2        \n",
       "40.0⋅Q₃  + 0.01⋅Q₂  + 0.04⋅n₁  + 0.04⋅n_g1  + 0.08⋅n₁⋅n_g1 + 0.008⋅θ₃  + 0.034\n",
       "\n",
       "   2                                                          \n",
       "⋅θ₂  - EJ⋅cos(θ₁ - θ₃) - EJ⋅cos(θ₁ + θ₃ - 2π⋅Φ₁) - 0.002⋅θ₂⋅θ₃"
      ]
     },
     "execution_count": 43,
     "metadata": {},
     "output_type": "execute_result"
    }
   ],
   "source": [
    "zero_pi.sym_hamiltonian()"
   ]
  },
  {
   "cell_type": "code",
   "execution_count": 44,
   "id": "805035c9",
   "metadata": {
    "pycharm": {
     "name": "#%%\n"
    },
    "tags": []
   },
   "outputs": [
    {
     "data": {
      "image/png": "[encoded data removed]",
      "text/plain": [
       "<Figure size 432x288 with 1 Axes>"
      ]
     },
     "metadata": {
      "needs_background": "light"
     },
     "output_type": "display_data"
    }
   ],
   "source": [
    "zero_pi.plot_wavefunction(which=0, var_indices=(3,))"
   ]
  },
  {
   "cell_type": "markdown",
   "id": "327aab42",
   "metadata": {
    "pycharm": {
     "name": "#%% md\n"
    }
   },
   "source": [
    "A maximum of two variable indices can be specified for a plot:"
   ]
  },
  {
   "cell_type": "code",
   "execution_count": 111,
   "id": "8331c9f3",
   "metadata": {
    "pycharm": {
     "name": "#%%\n"
    }
   },
   "outputs": [
    {
     "data": {
      "image/png": "[encoded data removed]",
      "text/plain": [
       "<Figure size 576x216 with 2 Axes>"
      ]
     },
     "metadata": {
      "needs_background": "light"
     },
     "output_type": "display_data"
    }
   ],
   "source": [
    "zero_pi.plot_wavefunction(which=0, var_indices=(1,3))"
   ]
  },
  {
   "cell_type": "markdown",
   "id": "dc7e83ac",
   "metadata": {},
   "source": [
    "To avoid diagonalizing the system for every call of `plot_wavefunction`, we can\n",
    "diagonalize the system once using eigensys and use it to plot the wavefunction repeatedly.     "
   ]
  },
  {
   "cell_type": "code",
   "execution_count": 45,
   "id": "9850600d",
   "metadata": {},
   "outputs": [
    {
     "data": {
      "image/png": "[encoded data removed]",
      "text/plain": [
       "<Figure size 576x216 with 2 Axes>"
      ]
     },
     "metadata": {
      "needs_background": "light"
     },
     "output_type": "display_data"
    }
   ],
   "source": [
    "eigensys = zero_pi.eigensys()\n",
    "zero_pi.plot_wavefunction(which=1, var_indices=(1,3), esys=eigensys)"
   ]
  },
  {
   "cell_type": "code",
   "execution_count": 46,
   "id": "0e8232c7",
   "metadata": {},
   "outputs": [
    {
     "data": {
      "image/png": "[encoded data removed]",
      "text/plain": [
       "<Figure size 576x216 with 2 Axes>"
      ]
     },
     "metadata": {
      "needs_background": "light"
     },
     "output_type": "display_data"
    }
   ],
   "source": [
    "zero_pi.plot_wavefunction(which=0, var_indices=(1,3), esys=eigensys)"
   ]
  },
  {
   "cell_type": "markdown",
   "id": "7cdda9f5",
   "metadata": {
    "pycharm": {
     "name": "#%% md\n"
    }
   },
   "source": [
    "## Extra features"
   ]
  },
  {
   "cell_type": "markdown",
   "id": "274eec17",
   "metadata": {
    "pycharm": {
     "name": "#%% md\n"
    }
   },
   "source": [
    "### Regroup external fluxes\n",
    "Grouping of external flux variables with specific circuit branches is not unique in the case of time-independent flux. The user can provide the list of branches with which external fluxes are grouped. (Splitting flux between multiple branches is currently not supported.)"
   ]
  },
  {
   "cell_type": "code",
   "execution_count": 47,
   "id": "32246cde",
   "metadata": {
    "pycharm": {
     "name": "#%%\n"
    },
    "tags": []
   },
   "outputs": [
    {
     "data": {
      "text/plain": [
       "[Branch(JJ, 1, 2),\n",
       " Branch(JJ, 3, 4),\n",
       " Branch(L, 2, 3),\n",
       " Branch(L, 4, 1),\n",
       " Branch(C, 1, 3),\n",
       " Branch(C, 2, 4)]"
      ]
     },
     "execution_count": 47,
     "metadata": {},
     "output_type": "execute_result"
    }
   ],
   "source": [
    "zero_pi.branches"
   ]
  },
  {
   "cell_type": "code",
   "execution_count": 48,
   "id": "5395a355",
   "metadata": {
    "pycharm": {
     "name": "#%%\n"
    }
   },
   "outputs": [],
   "source": [
    "closure_branches = [zero_pi.branches[3]]\n",
    "zero_pi.configure(closure_branches=closure_branches)"
   ]
  },
  {
   "cell_type": "markdown",
   "id": "a36730aa",
   "metadata": {
    "pycharm": {
     "name": "#%% md\n"
    }
   },
   "source": [
    "### Customize variable transformations\n",
    "It is possible to carry out variable transformations with a user-defined transformation matrix. For example, if we want to work with a more commonly seen set of variables for zero-pi circuit:"
   ]
  },
  {
   "cell_type": "code",
   "execution_count": 49,
   "id": "ed2c35b0",
   "metadata": {
    "pycharm": {
     "name": "#%%\n"
    }
   },
   "outputs": [],
   "source": [
    "zero_pi = scq.Circuit.from_yaml(zp_yaml, from_file=False, ext_basis=\"harmonic\")\n",
    "zero_pi.Φ1 = 0.5\n",
    "zero_pi.ng1 = 0.6"
   ]
  },
  {
   "cell_type": "code",
   "execution_count": 50,
   "id": "02411d67",
   "metadata": {
    "pycharm": {
     "name": "#%%\n"
    }
   },
   "outputs": [
    {
     "data": {
      "image/png": "[encoded data removed]",
      "text/latex": [
       "$\\displaystyle \\left[ φ_{1} = 0.5 θ_{3} + 0.5 θ_{4} - 0.5 θ_{1} - 0.5 θ_{2}, \\  φ_{2} = 0.5 θ_{1} + 0.5 θ_{2} + 0.5 θ_{3} + 0.5 θ_{4}, \\  φ_{3} = 0.5 θ_{1} + 0.5 θ_{4} - 0.5 θ_{2} - 0.5 θ_{3}, \\  φ_{4} = 0.5 θ_{2} + 0.5 θ_{4} - 0.5 θ_{1} - 0.5 θ_{3}\\right]$"
      ],
      "text/plain": [
       "[φ₁ = 0.5⋅θ₃ + 0.5⋅θ₄ - 0.5⋅θ₁ - 0.5⋅θ₂, φ₂ = 0.5⋅θ₁ + 0.5⋅θ₂ + 0.5⋅θ₃ + 0.5⋅θ\n",
       "₄, φ₃ = 0.5⋅θ₁ + 0.5⋅θ₄ - 0.5⋅θ₂ - 0.5⋅θ₃, φ₄ = 0.5⋅θ₂ + 0.5⋅θ₄ - 0.5⋅θ₁ - 0.5\n",
       "⋅θ₃]"
      ]
     },
     "execution_count": 50,
     "metadata": {},
     "output_type": "execute_result"
    }
   ],
   "source": [
    "trans_mat = np.array([[ -1,  -1,  1,  1],\n",
    "                       [ 1,  1,  1,  1],\n",
    "                       [ 1,  -1, -1,  1],\n",
    "                       [ -1,  1,  -1,  1]])*0.5\n",
    "zero_pi.configure(transformation_matrix=trans_mat)\n",
    "zero_pi.variable_transformation()"
   ]
  },
  {
   "cell_type": "code",
   "execution_count": 51,
   "id": "1bce9aa4",
   "metadata": {
    "pycharm": {
     "name": "#%%\n"
    }
   },
   "outputs": [
    {
     "data": {
      "image/png": "[encoded data removed]",
      "text/latex": [
       "$\\displaystyle \\left(40.0 Q_{2}^{2} + 0.04 Q_{3}^{2} + 0.04 n_{1}^{2} + 0.04 n_{g1}^{2} + 0.08 n_{1} n_{g1}\\right) - \\left(- 0.008 θ_{2}^{2} - 0.008 θ_{3}^{2} + EJ \\cos{\\left(θ_{1} + θ_{2} \\right)} + EJ \\cos{\\left(θ_{2} - 1.0 θ_{1} + 2π Φ_{1} \\right)} + 0.001 θ_{2} θ_{3}\\right)$"
      ],
      "text/plain": [
       "       2          2          2            2                          2        \n",
       "40.0⋅Q₂  + 0.04⋅Q₃  + 0.04⋅n₁  + 0.04⋅n_g1  + 0.08⋅n₁⋅n_g1 + 0.008⋅θ₂  + 0.008\n",
       "\n",
       "   2                                                          \n",
       "⋅θ₃  - EJ⋅cos(θ₁ + θ₂) - EJ⋅cos(θ₂ - θ₁ + 2π⋅Φ₁) - 0.e-3⋅θ₂⋅θ₃"
      ]
     },
     "execution_count": 51,
     "metadata": {},
     "output_type": "execute_result"
    }
   ],
   "source": [
    "zero_pi.sym_hamiltonian()"
   ]
  },
  {
   "cell_type": "code",
   "execution_count": 52,
   "id": "58c0021d",
   "metadata": {
    "pycharm": {
     "name": "#%%\n"
    }
   },
   "outputs": [
    {
     "data": {
      "text/plain": [
       "{'periodic': [1], 'extended': [2, 3], 'free': [], 'frozen': []}"
      ]
     },
     "execution_count": 52,
     "metadata": {},
     "output_type": "execute_result"
    }
   ],
   "source": [
    "zero_pi.var_categories"
   ]
  },
  {
   "cell_type": "markdown",
   "id": "91e53fed",
   "metadata": {
    "pycharm": {
     "name": "#%% md\n"
    }
   },
   "source": [
    "Notice that all the cutoffs, information about system hierarchy, external fluxes and offset charges are restored to default values when `configure` is called. Therefore, user need to set these attributes:"
   ]
  },
  {
   "cell_type": "code",
   "execution_count": 53,
   "id": "378c07c7",
   "metadata": {
    "pycharm": {
     "name": "#%%\n"
    }
   },
   "outputs": [
    {
     "data": {
      "text/plain": [
       "['cutoff_n_1', 'cutoff_ext_2', 'cutoff_ext_3']"
      ]
     },
     "execution_count": 53,
     "metadata": {},
     "output_type": "execute_result"
    }
   ],
   "source": [
    "zero_pi.cutoff_names"
   ]
  },
  {
   "cell_type": "code",
   "execution_count": 54,
   "id": "70f847b5",
   "metadata": {
    "pycharm": {
     "name": "#%%\n"
    }
   },
   "outputs": [],
   "source": [
    "zero_pi.cutoff_n_1 = 20\n",
    "zero_pi.cutoff_ext_2 = 30\n",
    "zero_pi.cutoff_ext_3 = 40\n",
    "system_hierarchy = [[1,2], [3]]\n",
    "zero_pi.configure(system_hierarchy=system_hierarchy, subsystem_trunc_dims=[20, 20])"
   ]
  },
  {
   "cell_type": "code",
   "execution_count": 55,
   "id": "18a1b7e0",
   "metadata": {},
   "outputs": [
    {
     "data": {
      "image/png": "[encoded data removed]",
      "text/latex": [
       "$\\displaystyle 20$"
      ],
      "text/plain": [
       "20"
      ]
     },
     "execution_count": 55,
     "metadata": {},
     "output_type": "execute_result"
    }
   ],
   "source": [
    "zero_pi.subsystems[1].truncated_dim"
   ]
  },
  {
   "cell_type": "code",
   "execution_count": 56,
   "id": "4b46f685",
   "metadata": {},
   "outputs": [
    {
     "data": {
      "image/png": "[encoded data removed]",
      "text/latex": [
       "$\\displaystyle \\left\\{ 1 : 20, \\  2 : 30, \\  3 : 40\\right\\}$"
      ],
      "text/plain": [
       "{1: 20, 2: 30, 3: 40}"
      ]
     },
     "execution_count": 56,
     "metadata": {},
     "output_type": "execute_result"
    }
   ],
   "source": [
    "zero_pi.cutoffs_dict()"
   ]
  },
  {
   "cell_type": "markdown",
   "id": "ad87138f",
   "metadata": {
    "pycharm": {
     "name": "#%% md\n"
    }
   },
   "source": [
    "Regrouping external fluxes, specifying custom variable transformations and setting system hierarchy can all be done with a single call of `configure`:"
   ]
  },
  {
   "cell_type": "code",
   "execution_count": 57,
   "id": "e069f758",
   "metadata": {
    "pycharm": {
     "name": "#%%\n"
    },
    "tags": []
   },
   "outputs": [],
   "source": [
    "zero_pi.configure(transformation_matrix=trans_mat, \n",
    "                         system_hierarchy=system_hierarchy, \n",
    "                         subsystem_trunc_dims=[80, 30], \n",
    "                         closure_branches=zero_pi.closure_branches)"
   ]
  },
  {
   "cell_type": "markdown",
   "id": "fcb3a657",
   "metadata": {
    "pycharm": {
     "name": "#%% md\n"
    }
   },
   "source": [
    "## Tips\n",
    "\n",
    "### Options for automatic variable transformation\n",
    "- After the periodic, frozen and free variables are identified, the transformation matrix is completed by adding on a set of linearly-independent vectors. This heuristic method for generating the transformation matrix may not always provide the \"ideal\" or expected choice of variables.\n",
    "- As an alternative, missing column vectors in the transformation matrix may be filled by suitable canonical basis vectors (drawn from the identity matrix). This choice is made by setting `basis_completion=\"canonical\"` when creating the `Circuit` object. (The default is `\"heuristic\"`.)"
   ]
  },
  {
   "cell_type": "markdown",
   "id": "0886befc",
   "metadata": {
    "pycharm": {
     "name": "#%% md\n"
    }
   },
   "source": [
    "### Handling large circuits\n",
    "- For large circuits, the Hilbert space dimension grows exponentially with cutoffs. Numerical diagonalization is therefore challenging for large cutoffs, both in terms of runtime and memory. It is recommended to start diagonalization with small cutoffs, and gradually increase them as needed. This applies to both the direct and hierarchical diagonalization methods.\n",
    "- For hierarchical diagonalization: as diagonalization for systems with three or more variables takes much longer than for smaller systems, it is recommended to try and group less than three nodes for each subsystem, and build a hierarchy of subsystems.\n",
    "- Note that convergence of the eigenergies for large circuits can differ significantly according to the variable transformation used. It is advisable to (i) try changing the `basis_completion` option, (ii) define a custom transformation matrix, or (iii) add/remove the reference ground node in the YAML description of the circuit. "
   ]
  },
  {
   "cell_type": "markdown",
   "id": "2546f76e",
   "metadata": {},
   "source": [
    "Similarly, if the `ext_basis` is set to `\"discretized\"`, the flux ranges for each of the\n",
    "extended variables can be changed using the following command. The default range is set\n",
    "from `(-6\\pi, 6\\pi)`."
   ]
  },
  {
   "cell_type": "code",
   "execution_count": 58,
   "id": "2c29e0ce",
   "metadata": {},
   "outputs": [],
   "source": [
    "zero_pi = scq.Circuit.from_yaml(zp_yaml, from_file=False, ext_basis=\"discretized\") # initializing the circuit with discretized phi basis.\n",
    "zero_pi.set_discretized_phi_range(var_indices=(2,3), phi_range=(-8*np.pi, 8*np.pi))"
   ]
  }
 ],
 "metadata": {
  "kernelspec": {
   "display_name": "Python 3.10.5 ('sai')",
   "language": "python",
   "name": "python3"
  },
  "language_info": {
   "codemirror_mode": {
    "name": "ipython",
    "version": 3
   },
   "file_extension": ".py",
   "mimetype": "text/x-python",
   "name": "python",
   "nbconvert_exporter": "python",
   "pygments_lexer": "ipython3",
   "version": "3.10.5"
  },
  "vscode": {
   "interpreter": {
    "hash": "ae50425459e2cce9c4f4fbbf0da58e0b9a93bded14819e40eacd4f9e69be4e25"
   }
  }
 },
 "nbformat": 4,
 "nbformat_minor": 5
}
